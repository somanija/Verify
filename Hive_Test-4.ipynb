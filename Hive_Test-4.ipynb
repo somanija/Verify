{
 "cells": [
  {
   "cell_type": "code",
   "execution_count": 1,
   "metadata": {},
   "outputs": [
    {
     "name": "stdout",
     "output_type": "stream",
     "text": [
      "Starting Spark application\n"
     ]
    },
    {
     "data": {
      "text/html": [
       "<table>\n",
       "<tr><th>ID</th><th>YARN Application ID</th><th>Kind</th><th>State</th><th>Spark UI</th><th>Driver log</th><th>User</th><th>Current session?</th></tr><tr><td>52</td><td>application_1629788289801_0070</td><td>pyspark</td><td>idle</td><td><a target=\"_blank\" href=\"http://ammaster01.dev-wbench.halo-telekom.com:8088/proxy/application_1629788289801_0070/\">Link</a></td><td><a target=\"_blank\" href=\"http://ammaster03.dev-wbench.halo-telekom.com:8042/node/containerlogs/container_e18_1629788289801_0070_01_000001/sawantr\">Link</a></td><td>sawantr</td><td>✔</td></tr></table>"
      ],
      "text/plain": [
       "<IPython.core.display.HTML object>"
      ]
     },
     "metadata": {},
     "output_type": "display_data"
    },
    {
     "data": {
      "application/vnd.jupyter.widget-view+json": {
       "model_id": "",
       "version_major": 2,
       "version_minor": 0
      },
      "text/plain": [
       "FloatProgress(value=0.0, bar_style='info', description='Progress:', layout=Layout(height='25px', width='50%'),…"
      ]
     },
     "metadata": {},
     "output_type": "display_data"
    },
    {
     "name": "stdout",
     "output_type": "stream",
     "text": [
      "SparkSession available as 'spark'.\n"
     ]
    },
    {
     "data": {
      "application/vnd.jupyter.widget-view+json": {
       "model_id": "",
       "version_major": 2,
       "version_minor": 0
      },
      "text/plain": [
       "FloatProgress(value=0.0, bar_style='info', description='Progress:', layout=Layout(height='25px', width='50%'),…"
      ]
     },
     "metadata": {},
     "output_type": "display_data"
    }
   ],
   "source": [
    "from pyspark.sql import SparkSession, HiveContext\n",
    "from pyspark.sql import functions as sf\n",
    "from pyspark.sql.functions import col\n",
    "import os"
   ]
  },
  {
   "cell_type": "code",
   "execution_count": 17,
   "metadata": {},
   "outputs": [
    {
     "data": {
      "application/vnd.jupyter.widget-view+json": {
       "model_id": "",
       "version_major": 2,
       "version_minor": 0
      },
      "text/plain": [
       "FloatProgress(value=0.0, bar_style='info', description='Progress:', layout=Layout(height='25px', width='50%'),…"
      ]
     },
     "metadata": {},
     "output_type": "display_data"
    }
   ],
   "source": [
    "spark = SparkSession.builder.appName(\"test\").getOrCreate()"
   ]
  },
  {
   "cell_type": "code",
   "execution_count": 18,
   "metadata": {},
   "outputs": [
    {
     "data": {
      "application/vnd.jupyter.widget-view+json": {
       "model_id": "",
       "version_major": 2,
       "version_minor": 0
      },
      "text/plain": [
       "FloatProgress(value=0.0, bar_style='info', description='Progress:', layout=Layout(height='25px', width='50%'),…"
      ]
     },
     "metadata": {},
     "output_type": "display_data"
    }
   ],
   "source": [
    "sqlContext = HiveContext(spark)"
   ]
  },
  {
   "cell_type": "code",
   "execution_count": 9,
   "metadata": {},
   "outputs": [
    {
     "name": "stdout",
     "output_type": "stream",
     "text": [
      "Collecting maths\n",
      "  Using cached maths-0.0.0.tar.gz (961 bytes)\n",
      "\u001b[31m    ERROR: Command errored out with exit status 1:\n",
      "     command: /opt/conda/bin/python -c 'import sys, setuptools, tokenize; sys.argv[0] = '\"'\"'/tmp/pip-install-wyn66n_u/maths_e47521316b0546ad836f259d55ed3d22/setup.py'\"'\"'; __file__='\"'\"'/tmp/pip-install-wyn66n_u/maths_e47521316b0546ad836f259d55ed3d22/setup.py'\"'\"';f=getattr(tokenize, '\"'\"'open'\"'\"', open)(__file__);code=f.read().replace('\"'\"'\\r\\n'\"'\"', '\"'\"'\\n'\"'\"');f.close();exec(compile(code, __file__, '\"'\"'exec'\"'\"'))' egg_info --egg-base /tmp/pip-pip-egg-info-6bcgldx7\n",
      "         cwd: /tmp/pip-install-wyn66n_u/maths_e47521316b0546ad836f259d55ed3d22/\n",
      "    Complete output (5 lines):\n",
      "    Traceback (most recent call last):\n",
      "      File \"<string>\", line 1, in <module>\n",
      "      File \"/tmp/pip-install-wyn66n_u/maths_e47521316b0546ad836f259d55ed3d22/setup.py\", line 5, in <module>\n",
      "        version=open('VERSION').read().strip(),\n",
      "    FileNotFoundError: [Errno 2] No such file or directory: 'VERSION'\n",
      "    ----------------------------------------\u001b[0m\n",
      "\u001b[33mWARNING: Discarding https://files.pythonhosted.org/packages/f0/9b/d0501e09552f369338efcc6a001ab96015b2eab91184c8a0f9b105b9a946/maths-0.0.0.tar.gz#sha256=0fdfc02fb8286f859fe59e630f7e4ba23ab3a888e159750fac57206af9ae3451 (from https://pypi.org/simple/maths/). Command errored out with exit status 1: python setup.py egg_info Check the logs for full command output.\u001b[0m\n",
      "\u001b[31mERROR: Could not find a version that satisfies the requirement maths\u001b[0m\n",
      "\u001b[31mERROR: No matching distribution found for maths\u001b[0m\n",
      "Note: you may need to restart the kernel to use updated packages.\n"
     ]
    }
   ],
   "source": [
    "%pip install maths"
   ]
  },
  {
   "cell_type": "code",
   "execution_count": 13,
   "metadata": {},
   "outputs": [
    {
     "data": {
      "application/vnd.jupyter.widget-view+json": {
       "model_id": "",
       "version_major": 2,
       "version_minor": 0
      },
      "text/plain": [
       "FloatProgress(value=0.0, bar_style='info', description='Progress:', layout=Layout(height='25px', width='50%'),…"
      ]
     },
     "metadata": {},
     "output_type": "display_data"
    },
    {
     "name": "stdout",
     "output_type": "stream",
     "text": [
      "+------------------+\n",
      "|      databaseName|\n",
      "+------------------+\n",
      "|           default|\n",
      "|information_schema|\n",
      "|               sys|\n",
      "|        tdatamodel|\n",
      "+------------------+"
     ]
    }
   ],
   "source": [
    "sql = sqlContext.sql(\"show databases\").show()"
   ]
  },
  {
   "cell_type": "code",
   "execution_count": 34,
   "metadata": {},
   "outputs": [
    {
     "data": {
      "application/vnd.jupyter.widget-view+json": {
       "model_id": "",
       "version_major": 2,
       "version_minor": 0
      },
      "text/plain": [
       "FloatProgress(value=0.0, bar_style='info', description='Progress:', layout=Layout(height='25px', width='50%'),…"
      ]
     },
     "metadata": {},
     "output_type": "display_data"
    },
    {
     "name": "stdout",
     "output_type": "stream",
     "text": [
      "+----------+---------+-----------+\n",
      "|  database|tableName|isTemporary|\n",
      "+----------+---------+-----------+\n",
      "|tdatamodel|  sample1|      false|\n",
      "|tdatamodel|  sample2|      false|\n",
      "|tdatamodel|  testhii|      false|\n",
      "|tdatamodel| testhive|      false|\n",
      "+----------+---------+-----------+"
     ]
    }
   ],
   "source": [
    "sql = sqlContext.sql(\"show tables from tdatamodel\").show()"
   ]
  },
  {
   "cell_type": "code",
   "execution_count": 50,
   "metadata": {},
   "outputs": [
    {
     "data": {
      "application/vnd.jupyter.widget-view+json": {
       "model_id": "",
       "version_major": 2,
       "version_minor": 0
      },
      "text/plain": [
       "FloatProgress(value=0.0, bar_style='info', description='Progress:', layout=Layout(height='25px', width='50%'),…"
      ]
     },
     "metadata": {},
     "output_type": "display_data"
    }
   ],
   "source": [
    "sql = sqlContext.sql(\"create external table tdatamodel.testhive2(Org_name string, Name string,Country string, Number bigint) location '/user/sawantr'\")\n"
   ]
  },
  {
   "cell_type": "code",
   "execution_count": 51,
   "metadata": {},
   "outputs": [
    {
     "data": {
      "application/vnd.jupyter.widget-view+json": {
       "model_id": "",
       "version_major": 2,
       "version_minor": 0
      },
      "text/plain": [
       "FloatProgress(value=0.0, bar_style='info', description='Progress:', layout=Layout(height='25px', width='50%'),…"
      ]
     },
     "metadata": {},
     "output_type": "display_data"
    },
    {
     "name": "stdout",
     "output_type": "stream",
     "text": [
      "+----------+---------+-----------+\n",
      "|  database|tableName|isTemporary|\n",
      "+----------+---------+-----------+\n",
      "|tdatamodel|  sample1|      false|\n",
      "|tdatamodel|  sample2|      false|\n",
      "|tdatamodel| testhive|      false|\n",
      "|tdatamodel|testhive2|      false|\n",
      "+----------+---------+-----------+"
     ]
    }
   ],
   "source": [
    "sql = sqlContext.sql(\"show tables from tdatamodel\").show()"
   ]
  },
  {
   "cell_type": "code",
   "execution_count": 52,
   "metadata": {},
   "outputs": [
    {
     "data": {
      "application/vnd.jupyter.widget-view+json": {
       "model_id": "",
       "version_major": 2,
       "version_minor": 0
      },
      "text/plain": [
       "FloatProgress(value=0.0, bar_style='info', description='Progress:', layout=Layout(height='25px', width='50%'),…"
      ]
     },
     "metadata": {},
     "output_type": "display_data"
    }
   ],
   "source": [
    "df = spark.read.csv(\"Sample_Data.csv\",header=True,sep=\",\")"
   ]
  },
  {
   "cell_type": "code",
   "execution_count": 53,
   "metadata": {},
   "outputs": [
    {
     "data": {
      "application/vnd.jupyter.widget-view+json": {
       "model_id": "",
       "version_major": 2,
       "version_minor": 0
      },
      "text/plain": [
       "FloatProgress(value=0.0, bar_style='info', description='Progress:', layout=Layout(height='25px', width='50%'),…"
      ]
     },
     "metadata": {},
     "output_type": "display_data"
    },
    {
     "name": "stdout",
     "output_type": "stream",
     "text": [
      "+--------------------+------------------+----------------+-------------+\n",
      "|        Company Name|       Person Name|         Country|       Number|\n",
      "+--------------------+------------------+----------------+-------------+\n",
      "|             Est LLC|      Kaseem Cohen|          Gambia|1653082454999|\n",
      "|Iaculis Odio Inst...|      Aidan Abbott|         Bahamas|1603042814899|\n",
      "|Pretium Neque Mor...|     Castor Wooten|           Libya|1655120478599|\n",
      "|      Arcu Nunc Inc.|    Dexter Francis|      Micronesia|1697021634199|\n",
      "|Turpis Nec Mauris...|Branden Fitzgerald|           India|1659010362999|\n",
      "|Risus Donec Nibh ...|   Honorato Levine|          Latvia|1661072834999|\n",
      "|   Sociis Foundation|      Dexter Bowen|      Martinique|1611091683299|\n",
      "|    Metus Associates|     Howard Garcia|   Liechtenstein|1609110632999|\n",
      "|      Quis Institute|         Scott Key|      Kazakhstan|1664121891699|\n",
      "|Luctus Felis Indu...|      Kevin Bowman|         Nigeria|1612102213599|\n",
      "|   Rhoncus Institute|       Martin Cote|         Ireland|1653021027899|\n",
      "|          Litora LLC|        Baker Rice|         Comoros|1648020498699|\n",
      "|Elementum Lorem U...|      Herrod Hayes|Saint Barthélemy|1655091896099|\n",
      "|      Aenean Company|   Uriah Cervantes|   Bouvet Island|1689051689799|\n",
      "|          Morbi Inc.|      Craig Clarke|           Yemen|1660060384899|\n",
      "|Vulputate Ullamco...|  Channing Jackson|    Turkmenistan|1662111477199|\n",
      "|    Purus Foundation|      Levi Aguirre|        Guernsey|1677042182399|\n",
      "|Sodales At Incorp...|    Wing Blackwell|           India|1667062647999|\n",
      "|         Dictum Inc.|    Ishmael Macias|          France|1648051515399|\n",
      "|      Sem Consulting|     Camden Melton|  American Samoa|1604061110799|\n",
      "+--------------------+------------------+----------------+-------------+\n",
      "only showing top 20 rows"
     ]
    }
   ],
   "source": [
    "df.show()"
   ]
  },
  {
   "cell_type": "code",
   "execution_count": 54,
   "metadata": {},
   "outputs": [
    {
     "data": {
      "application/vnd.jupyter.widget-view+json": {
       "model_id": "",
       "version_major": 2,
       "version_minor": 0
      },
      "text/plain": [
       "FloatProgress(value=0.0, bar_style='info', description='Progress:', layout=Layout(height='25px', width='50%'),…"
      ]
     },
     "metadata": {},
     "output_type": "display_data"
    }
   ],
   "source": [
    "dataFrame = df.select(col(\"Company Name\").alias(\"Org_name\"),col(\"Person Name\").alias(\"Name\"),\"Country\",\"Number\")"
   ]
  },
  {
   "cell_type": "code",
   "execution_count": 55,
   "metadata": {},
   "outputs": [
    {
     "data": {
      "application/vnd.jupyter.widget-view+json": {
       "model_id": "",
       "version_major": 2,
       "version_minor": 0
      },
      "text/plain": [
       "FloatProgress(value=0.0, bar_style='info', description='Progress:', layout=Layout(height='25px', width='50%'),…"
      ]
     },
     "metadata": {},
     "output_type": "display_data"
    }
   ],
   "source": [
    "dataFrame.write.mode(\"overwrite\").insertInto(\"tdatamodel.testhive2\")"
   ]
  },
  {
   "cell_type": "code",
   "execution_count": 57,
   "metadata": {},
   "outputs": [
    {
     "data": {
      "application/vnd.jupyter.widget-view+json": {
       "model_id": "",
       "version_major": 2,
       "version_minor": 0
      },
      "text/plain": [
       "FloatProgress(value=0.0, bar_style='info', description='Progress:', layout=Layout(height='25px', width='50%'),…"
      ]
     },
     "metadata": {},
     "output_type": "display_data"
    },
    {
     "name": "stdout",
     "output_type": "stream",
     "text": [
      "+--------------------+------------------+-------------+-------------+\n",
      "|            Org_name|              Name|      Country|       Number|\n",
      "+--------------------+------------------+-------------+-------------+\n",
      "|             Est LLC|      Kaseem Cohen|       Gambia|1653082454999|\n",
      "|Iaculis Odio Inst...|      Aidan Abbott|      Bahamas|1603042814899|\n",
      "|Pretium Neque Mor...|     Castor Wooten|        Libya|1655120478599|\n",
      "|      Arcu Nunc Inc.|    Dexter Francis|   Micronesia|1697021634199|\n",
      "|Turpis Nec Mauris...|Branden Fitzgerald|        India|1659010362999|\n",
      "|Risus Donec Nibh ...|   Honorato Levine|       Latvia|1661072834999|\n",
      "|   Sociis Foundation|      Dexter Bowen|   Martinique|1611091683299|\n",
      "|    Metus Associates|     Howard Garcia|Liechtenstein|1609110632999|\n",
      "|      Quis Institute|         Scott Key|   Kazakhstan|1664121891699|\n",
      "|Luctus Felis Indu...|      Kevin Bowman|      Nigeria|1612102213599|\n",
      "+--------------------+------------------+-------------+-------------+"
     ]
    }
   ],
   "source": [
    "sql = sqlContext.sql(\"select * from tdatamodel.testhive2 limit 10\").show()"
   ]
  },
  {
   "cell_type": "code",
   "execution_count": null,
   "metadata": {},
   "outputs": [],
   "source": []
  },
  {
   "cell_type": "code",
   "execution_count": null,
   "metadata": {},
   "outputs": [],
   "source": []
  }
 ],
 "metadata": {
  "kernelspec": {
   "display_name": "PySpark",
   "language": "python",
   "name": "pysparkkernel"
  },
  "language_info": {
   "codemirror_mode": {
    "name": "python",
    "version": 3
   },
   "file_extension": ".py",
   "mimetype": "text/x-python",
   "name": "pyspark",
   "pygments_lexer": "python3"
  }
 },
 "nbformat": 4,
 "nbformat_minor": 2
}
